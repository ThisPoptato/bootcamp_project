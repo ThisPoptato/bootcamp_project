{
 "cells":[
  {
   "cell_type":"markdown",
   "source":[
    "# Rock Paper Scissors!\n",
    "\n",
    "Date: 7 January 2023\n",
    "\n",
    "Author: Chatewarin Sintuwarakul"
   ],
   "attachments":{
    
   },
   "metadata":{
    "datalore":{
     "node_id":"Avqedy1V8jqmyfj90Gv4KU",
     "type":"MD",
     "hide_input_from_viewers":false,
     "hide_output_from_viewers":false
    }
   }
  },
  {
   "cell_type":"code",
   "source":[
    "import random\n",
    "\n",
    "name = \"name\"\n",
    "win = 0\n",
    "lose = 0\n",
    "draw = 0\n",
    "cancel = 0\n",
    "\n",
    "def check():\n",
    "    print(\" 1.Hammer\")\n",
    "    print(\" 2.Scissors\")\n",
    "    print(\" 3.Paper\")\n",
    "    print(f\"{name}'s status - Win: {win}, Lose: {lose}, Draw: {draw} --- quit press [q]\")\n",
    "    \n",
    "def choose(pick):\n",
    "    if pick == '1':\n",
    "        print(\"You : Hammer\")\n",
    "    elif pick == '2':\n",
    "        print(\"You : Scissors\")\n",
    "    elif pick == '3':\n",
    "        print(\"You : Paper\")"
   ],
   "execution_count":1,
   "outputs":[
    
   ],
   "metadata":{
    "datalore":{
     "node_id":"8rSMwryFO75blC193UR1MV",
     "type":"CODE",
     "hide_input_from_viewers":false,
     "hide_output_from_viewers":false
    }
   }
  },
  {
   "cell_type":"markdown",
   "source":[
    "# Start Game!!"
   ],
   "attachments":{
    
   },
   "metadata":{
    "datalore":{
     "node_id":"2cFM1SknPdjRAkijDafrWX",
     "type":"MD",
     "hide_input_from_viewers":false,
     "hide_output_from_viewers":false
    }
   }
  },
  {
   "cell_type":"code",
   "source":[
    "print(\"Welcome to game PAO-YING-CHOOP.\")\n",
    "# noinspection PyRedeclaration\n",
    "name = input(\"How can I call your name?\")\n",
    "print(\"Start game PAO-YING-CHOOP !!!!!!!!!!\")\n",
    "while True:\n",
    "    check()\n",
    "    user = str(input())\n",
    "\n",
    "    bot_random = random.choice(['h','p','s'])\n",
    "    if bot_random == 'h':\n",
    "        bot_random = 'h'\n",
    "        print(\"Bot : Hammer!!!!\")\n",
    "        print(\"And\")\n",
    "    elif bot_random == 'r':\n",
    "        bot_random = 'r'\n",
    "        print(\"Bot : Scissors!!!!\")\n",
    "        print(\"And\")\n",
    "    elif bot_random == 'p':\n",
    "        bot_random = 'p'\n",
    "        print(\"Bot : Paper!!!!\")\n",
    "        print(\"And\")\n",
    "        \n",
    "    choose(user)\n",
    "    \n",
    "    if user == '1' and bot_random == 'h':\n",
    "        draw += 1\n",
    "        print(\"Draw -_-\")\n",
    "        print(\"----------\")\n",
    "    elif user == '2' and bot_random == 's':\n",
    "        draw += 1\n",
    "        print(\"Draw -_-\")\n",
    "        print(\"----------\")\n",
    "    elif user == '3' and bot_random == 'p':\n",
    "        draw += 1\n",
    "        print(\"Draw -_-\")\n",
    "        print(\"----------\")\n",
    "    elif user == '1' and bot_random == 's':\n",
    "        win += 1\n",
    "        print(\"Win !!!!\")\n",
    "        print(\"----------\") \n",
    "    elif user == '2' and bot_random == 'p':\n",
    "        win += 1\n",
    "        print(\"Win !!!!\")\n",
    "        print(\"----------\")\n",
    "    elif user == '3' and bot_random == 'h':\n",
    "        win += 1\n",
    "        print(\"Win !!!!\")\n",
    "        print(\"----------\")\n",
    "    elif user == '1' and bot_random == 'p':\n",
    "        lose += 1\n",
    "        print(\"Lose T_T\")\n",
    "        print(\"----------\")\n",
    "    elif user == '2' and bot_random == 'h':\n",
    "        lose += 1\n",
    "        print(\"Lose T_T\")\n",
    "        print(\"----------\")\n",
    "    elif user == '3' and bot_random == 's':\n",
    "        lose += 1\n",
    "        print(\"Lose T_T\")\n",
    "        print(\"----------\")\n",
    "    elif user == 'q':\n",
    "        print(f\"Good game {name}, Thankyou for playing.\")\n",
    "        total = win+lose+draw\n",
    "        print(f\"Total game = {total} games.\")\n",
    "        print('----------------------')\n",
    "        print(f\"Win : {win} games.\")\n",
    "        print(f\"Lose : {lose} games.\")\n",
    "        print(f\"Draw : {draw} games.\")\n",
    "        print(\"----------------------\")\n",
    "        print(\"Bye bye, will see you again.\")\n",
    "        break"
   ],
   "execution_count":2,
   "outputs":[
    {
     "name":"stdout",
     "text":[
      "Welcome to game PAO-YING-CHOOP.\n",
      "How can I call your name? pop\n",
      "Start game PAO-YING-CHOOP !!!!!!!!!!\n",
      " 1.Hammer\n",
      " 2.Scissors\n",
      " 3.Paper\n",
      "pop's status - Win: 0, Lose: 0, Draw: 0 --- quit press [q]\n",
      " 1\n",
      "You : Hammer\n",
      "Win !!!!\n",
      "----------\n",
      " 1.Hammer\n",
      " 2.Scissors\n",
      " 3.Paper\n",
      "pop's status - Win: 1, Lose: 0, Draw: 0 --- quit press [q]\n",
      " 2\n",
      "Bot : Hammer!!!!\n",
      "And\n",
      "You : Scissors\n",
      "Lose T_T\n",
      "----------\n",
      " 1.Hammer\n",
      " 2.Scissors\n",
      " 3.Paper\n",
      "pop's status - Win: 1, Lose: 1, Draw: 0 --- quit press [q]\n",
      " 2\n",
      "You : Scissors\n",
      "Draw -_-\n",
      "----------\n",
      " 1.Hammer\n",
      " 2.Scissors\n",
      " 3.Paper\n",
      "pop's status - Win: 1, Lose: 1, Draw: 1 --- quit press [q]\n",
      " 4\n",
      "Bot : Hammer!!!!\n",
      "And\n",
      " 1.Hammer\n",
      " 2.Scissors\n",
      " 3.Paper\n",
      "pop's status - Win: 1, Lose: 1, Draw: 1 --- quit press [q]\n",
      " 1\n",
      "Bot : Hammer!!!!\n",
      "And\n",
      "You : Hammer\n",
      "Draw -_-\n",
      "----------\n",
      " 1.Hammer\n",
      " 2.Scissors\n",
      " 3.Paper\n",
      "pop's status - Win: 1, Lose: 1, Draw: 2 --- quit press [q]\n",
      " 2\n",
      "You : Scissors\n",
      "Draw -_-\n",
      "----------\n",
      " 1.Hammer\n",
      " 2.Scissors\n",
      " 3.Paper\n",
      "pop's status - Win: 1, Lose: 1, Draw: 3 --- quit press [q]\n",
      " 1\n",
      "You : Hammer\n",
      "Win !!!!\n",
      "----------\n",
      " 1.Hammer\n",
      " 2.Scissors\n",
      " 3.Paper\n",
      "pop's status - Win: 2, Lose: 1, Draw: 3 --- quit press [q]\n",
      " 3\n",
      "Bot : Hammer!!!!\n",
      "And\n",
      "You : Paper\n",
      "Win !!!!\n",
      "----------\n",
      " 1.Hammer\n",
      " 2.Scissors\n",
      " 3.Paper\n",
      "pop's status - Win: 3, Lose: 1, Draw: 3 --- quit press [q]\n",
      " 1\n",
      "Bot : Hammer!!!!\n",
      "And\n",
      "You : Hammer\n",
      "Draw -_-\n",
      "----------\n",
      " 1.Hammer\n",
      " 2.Scissors\n",
      " 3.Paper\n",
      "pop's status - Win: 3, Lose: 1, Draw: 4 --- quit press [q]\n",
      " q\n",
      "Good game pop, Thankyou for playing.\n",
      "Total game = 8 games.\n",
      "----------------------\n",
      "Win : 3 games.\n",
      "Lose : 1 games.\n",
      "Draw : 4 games.\n",
      "----------------------\n",
      "Bye bye, will see you again.\n"
     ],
     "output_type":"stream"
    }
   ],
   "metadata":{
    "datalore":{
     "node_id":"kCYJgebkJMB3bDi5nXZ0kG",
     "type":"CODE",
     "hide_input_from_viewers":false,
     "hide_output_from_viewers":false
    }
   }
  }
 ],
 "metadata":{
  "kernelspec":{
   "display_name":"Python",
   "language":"python",
   "name":"python"
  },
  "datalore":{
   "version":1,
   "computation_mode":"JUPYTER",
   "package_manager":"pip",
   "base_environment":"default",
   "packages":[
    
   ]
  }
 },
 "nbformat":4,
 "nbformat_minor":4
}