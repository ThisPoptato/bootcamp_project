{
 "cells":[
  {
   "cell_type":"markdown",
   "source":[
    "# OOP : ATM\n",
    "\n",
    "Date: 7 January 2023\n",
    "\n",
    "Author: Chatewarin Sintuwarakul"
   ],
   "attachments":{
    
   },
   "metadata":{
    "datalore":{
     "node_id":"MKguewTcOzROViTH91GxVI",
     "type":"MD",
     "hide_input_from_viewers":false,
     "hide_output_from_viewers":false
    }
   }
  },
  {
   "cell_type":"code",
   "source":[
    "class ATM:\n",
    "    # noinspection PyShadowingNames\n",
    "    def __init__(self, name, balance, phonenumber): \n",
    "        self.name = name\n",
    "        self.balance = balance\n",
    "        self.phonenumber = phonenumber\n",
    "\n",
    "    def check_balance(self):\n",
    "        message = f\"Account: {self.name},Balance: {self.balance}\"\n",
    "        print(message)\n",
    "\n",
    "    def deposit(self, money):\n",
    "        self.balance += money\n",
    "        print(f\"New Balance: {self.balance}\")\n",
    "        print(\"Deposit successfully.\")\n",
    "\n",
    "    # noinspection PyUnusedLocal,PyShadowingNames\n",
    "    def change_phonenumber(self, new_phonenumber):\n",
    "        self.phonenumber = new_phonenumber\n",
    "        print(f'New phone number: {self.phonenumber}')\n",
    "        print(\"Your account name has been changed.\")\n",
    "\n",
    "    def withdraw(self, wmoney):\n",
    "        self.balance -= wmoney\n",
    "        print(f\"New Balance: {self.balance}\")\n",
    "        print(\"Withdraw successfully.\")\n",
    "    \n",
    "    def login(self, enter_phone):\n",
    "        if enter_phone != self.phonenumber:\n",
    "            print(\"Your phonenumber is incorrect.\")\n",
    "        elif enter_phone == self.phonenumber:\n",
    "            print(f\"Welcome {self.name}, Choose our service.\")\n",
    "            print(\"1. Withdraw\")\n",
    "            print(\"2. Deposit\")\n",
    "            print(\"3. Check Balance\")\n",
    "            print(\"4. Change Phone number\")\n",
    "\n",
    "    def goodbye(self):\n",
    "        print(f\"Thank you, {self.name} for use our service.\")\n",
    "        print(\"Good bye!.\")"
   ],
   "execution_count":1,
   "outputs":[
    
   ],
   "metadata":{
    "datalore":{
     "node_id":"koEOrHBaq89TPtrrkJH4uk",
     "type":"CODE",
     "hide_input_from_viewers":false,
     "hide_output_from_viewers":false
    }
   }
  },
  {
   "cell_type":"markdown",
   "source":[
    "# Register"
   ],
   "attachments":{
    
   },
   "metadata":{
    "datalore":{
     "node_id":"x3Vpr8a4xOX2bmaGuqxLne",
     "type":"MD",
     "hide_input_from_viewers":false,
     "hide_output_from_viewers":false
    }
   }
  },
  {
   "cell_type":"code",
   "source":[
    "your_name = input(\"Your name: \")\n",
    "\n",
    "your_balance = float(input(\"Your balance: \"))\n",
    "\n",
    "your_phonenumber = int(input(\"Your phone number (10 digits): \"))\n",
    "\n",
    "ATM1 = ATM(your_name, your_balance, your_phonenumber)"
   ],
   "execution_count":15,
   "outputs":[
    
   ],
   "metadata":{
    "datalore":{
     "node_id":"3llCZFJPrdZXWY20MYMPaG",
     "type":"CODE",
     "hide_input_from_viewers":false,
     "hide_output_from_viewers":false
    }
   }
  },
  {
   "cell_type":"markdown",
   "source":[
    "# In front of ATM"
   ],
   "attachments":{
    
   },
   "metadata":{
    "datalore":{
     "node_id":"nBojNaxkFbxy4QG2gqVw8D",
     "type":"MD",
     "hide_input_from_viewers":false,
     "hide_output_from_viewers":false
    }
   }
  },
  {
   "cell_type":"code",
   "source":[
    "\n",
    "ATM1.login(int(input(\"Your phone number (10 digits): \")))\n",
    "\n",
    "service = input(\"please fill in the number: \")\n",
    "\n",
    "if service == \"1\":\n",
    "    withdraw_money = float(input(\"Withdraw total: \"))\n",
    "    ATM1.withdraw(withdraw_money)\n",
    "    ATM1.goodbye()\n",
    "    \n",
    "elif service == \"2\":\n",
    "    money_deposit = float(input(\"Deposit total: \"))\n",
    "    ATM1.deposit(money_deposit)\n",
    "    ATM1.goodbye()\n",
    "        \n",
    "elif service == \"3\":\n",
    "    ATM1.check_balance()\n",
    "    ATM1.goodbye()\n",
    "    \n",
    "elif service == \"4\":\n",
    "    news_phonenumber = int(input(\"Please enter your new phone number (10 digits): \"))\n",
    "    ATM1.change_phonenumber(news_phonenumber)\n",
    "    ATM1.goodbye()"
   ],
   "execution_count":16,
   "outputs":[
    {
     "name":"stdout",
     "text":[
      "Your phone number (10 digits):  123456\n",
      "Welcome POp, Choose our service.\n",
      "1. Withdraw\n",
      "2. Deposit\n",
      "3. Check Balance\n",
      "4. Change Phone number\n",
      "please fill in the number:  4\n",
      "Please enter your new phone number (10 digits):  121212\n",
      "New phone number: 121212\n",
      "Your account name has been changed.\n",
      "Thank you, POp for use our service.\n",
      "good bye !.\n"
     ],
     "output_type":"stream"
    }
   ],
   "metadata":{
    "datalore":{
     "node_id":"jqj9DpZsQI8mWdfs708e6k",
     "type":"CODE",
     "hide_input_from_viewers":false,
     "hide_output_from_viewers":false
    }
   }
  }
 ],
 "metadata":{
  "kernelspec":{
   "display_name":"Python",
   "language":"python",
   "name":"python"
  },
  "datalore":{
   "version":1,
   "computation_mode":"JUPYTER",
   "package_manager":"pip",
   "base_environment":"default",
   "packages":[
    
   ]
  }
 },
 "nbformat":4,
 "nbformat_minor":4
}