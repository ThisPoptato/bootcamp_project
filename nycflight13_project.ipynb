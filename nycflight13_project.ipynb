{
  "cells": [
    {
      "cell_type": "markdown",
      "metadata": {
        "id": "view-in-github",
        "colab_type": "text"
      },
      "source": [
        "<a href=\"https://colab.research.google.com/github/ThisPoptato/bootcamp_project/blob/main/nycflight13_project.ipynb\" target=\"_parent\"><img src=\"https://colab.research.google.com/assets/colab-badge.svg\" alt=\"Open In Colab\"/></a>"
      ]
    },
    {
      "cell_type": "markdown",
      "metadata": {
        "id": "zwu0_mcgC0qO"
      },
      "source": [
        "# Data Transformation\n",
        "5 questions to find insight by dplyr\n",
        "\n",
        "1.   Where is location has more deley flight on department & arriving?\n",
        "2.   Which top cariers used each month?\n",
        "3.   Where do most of the flights from and go ?\n",
        "4.   Where is most destination on December?\n",
        "5.   Which carrier fly to Atlanta International Airport the most in December 2013\n",
        "\n",
        "\n"
      ]
    },
    {
      "cell_type": "markdown",
      "source": [
        "Install package    1. nycflights13    2. tidyverse   3. RPostgreSQL"
      ],
      "metadata": {
        "id": "skDE0E0mUoiQ"
      }
    },
    {
      "cell_type": "code",
      "execution_count": null,
      "metadata": {
        "colab": {
          "base_uri": "https://localhost:8080/"
        },
        "id": "yoJyNKVASwsW",
        "outputId": "75fc8a9e-4cfb-404c-8b75-be1fb9d4e53f"
      },
      "outputs": [
        {
          "output_type": "stream",
          "name": "stderr",
          "text": [
            "Installing packages into ‘/usr/local/lib/R/site-library’\n",
            "(as ‘lib’ is unspecified)\n",
            "\n"
          ]
        }
      ],
      "source": [
        "install.packages(c(\"nycflights13\",\"tidyverse\",\"RPostgreSQL\"))\n",
        "library(nycflights13)\n",
        "library(tidyverse)\n",
        "library(RPostgreSQL)"
      ]
    },
    {
      "cell_type": "markdown",
      "metadata": {
        "id": "dHoMHZXoE4E8"
      },
      "source": [
        "Prepare data"
      ]
    },
    {
      "cell_type": "code",
      "execution_count": null,
      "metadata": {
        "colab": {
          "base_uri": "https://localhost:8080/",
          "height": 882
        },
        "id": "yVgpYAUDE4MB",
        "outputId": "ea14198e-5ddd-4fce-d33d-c7c8320ff9a8"
      },
      "outputs": [
        {
          "output_type": "stream",
          "name": "stdout",
          "text": [
            "Rows: 336,776\n",
            "Columns: 21\n",
            "$ rowname        \u001b[3m\u001b[90m<chr>\u001b[39m\u001b[23m \"1\", \"2\", \"3\", \"4\", \"5\", \"6\", \"7\", \"8\", \"9\", \"10\", \"11\"…\n",
            "$ year           \u001b[3m\u001b[90m<int>\u001b[39m\u001b[23m 2013, 2013, 2013, 2013, 2013, 2013, 2013, 2013, 2013, 2…\n",
            "$ month          \u001b[3m\u001b[90m<int>\u001b[39m\u001b[23m 1, 1, 1, 1, 1, 1, 1, 1, 1, 1, 1, 1, 1, 1, 1, 1, 1, 1, 1…\n",
            "$ day            \u001b[3m\u001b[90m<int>\u001b[39m\u001b[23m 1, 1, 1, 1, 1, 1, 1, 1, 1, 1, 1, 1, 1, 1, 1, 1, 1, 1, 1…\n",
            "$ dep_time       \u001b[3m\u001b[90m<int>\u001b[39m\u001b[23m 517, 533, 542, 544, 554, 554, 555, 557, 557, 558, 558, …\n",
            "$ sched_dep_time \u001b[3m\u001b[90m<int>\u001b[39m\u001b[23m 515, 529, 540, 545, 600, 558, 600, 600, 600, 600, 600, …\n",
            "$ dep_delay      \u001b[3m\u001b[90m<dbl>\u001b[39m\u001b[23m 2, 4, 2, -1, -6, -4, -5, -3, -3, -2, -2, -2, -2, -2, -1…\n",
            "$ arr_time       \u001b[3m\u001b[90m<int>\u001b[39m\u001b[23m 830, 850, 923, 1004, 812, 740, 913, 709, 838, 753, 849,…\n",
            "$ sched_arr_time \u001b[3m\u001b[90m<int>\u001b[39m\u001b[23m 819, 830, 850, 1022, 837, 728, 854, 723, 846, 745, 851,…\n",
            "$ arr_delay      \u001b[3m\u001b[90m<dbl>\u001b[39m\u001b[23m 11, 20, 33, -18, -25, 12, 19, -14, -8, 8, -2, -3, 7, -1…\n",
            "$ carrier        \u001b[3m\u001b[90m<chr>\u001b[39m\u001b[23m \"UA\", \"UA\", \"AA\", \"B6\", \"DL\", \"UA\", \"B6\", \"EV\", \"B6\", \"…\n",
            "$ flight         \u001b[3m\u001b[90m<int>\u001b[39m\u001b[23m 1545, 1714, 1141, 725, 461, 1696, 507, 5708, 79, 301, 4…\n",
            "$ tailnum        \u001b[3m\u001b[90m<chr>\u001b[39m\u001b[23m \"N14228\", \"N24211\", \"N619AA\", \"N804JB\", \"N668DN\", \"N394…\n",
            "$ origin         \u001b[3m\u001b[90m<chr>\u001b[39m\u001b[23m \"EWR\", \"LGA\", \"JFK\", \"JFK\", \"LGA\", \"EWR\", \"EWR\", \"LGA\",…\n",
            "$ dest           \u001b[3m\u001b[90m<chr>\u001b[39m\u001b[23m \"IAH\", \"IAH\", \"MIA\", \"BQN\", \"ATL\", \"ORD\", \"FLL\", \"IAD\",…\n",
            "$ air_time       \u001b[3m\u001b[90m<dbl>\u001b[39m\u001b[23m 227, 227, 160, 183, 116, 150, 158, 53, 140, 138, 149, 1…\n",
            "$ distance       \u001b[3m\u001b[90m<dbl>\u001b[39m\u001b[23m 1400, 1416, 1089, 1576, 762, 719, 1065, 229, 944, 733, …\n",
            "$ hour           \u001b[3m\u001b[90m<dbl>\u001b[39m\u001b[23m 5, 5, 5, 5, 6, 5, 6, 6, 6, 6, 6, 6, 6, 6, 6, 5, 6, 6, 6…\n",
            "$ minute         \u001b[3m\u001b[90m<dbl>\u001b[39m\u001b[23m 15, 29, 40, 45, 0, 58, 0, 0, 0, 0, 0, 0, 0, 0, 0, 59, 0…\n",
            "$ time_hour      \u001b[3m\u001b[90m<dttm>\u001b[39m\u001b[23m 2013-01-01 05:00:00, 2013-01-01 05:00:00, 2013-01-01 0…\n",
            "$ carriers       \u001b[3m\u001b[90m<chr>\u001b[39m\u001b[23m \"United Air Lines Inc.\", \"United Air Lines Inc.\", \"Amer…\n"
          ]
        },
        {
          "output_type": "display_data",
          "data": {
            "text/html": [
              "<table class=\"dataframe\">\n",
              "<caption>A tibble: 5 × 21</caption>\n",
              "<thead>\n",
              "\t<tr><th scope=col>rowname</th><th scope=col>year</th><th scope=col>month</th><th scope=col>day</th><th scope=col>dep_time</th><th scope=col>sched_dep_time</th><th scope=col>dep_delay</th><th scope=col>arr_time</th><th scope=col>sched_arr_time</th><th scope=col>arr_delay</th><th scope=col>⋯</th><th scope=col>flight</th><th scope=col>tailnum</th><th scope=col>origin</th><th scope=col>dest</th><th scope=col>air_time</th><th scope=col>distance</th><th scope=col>hour</th><th scope=col>minute</th><th scope=col>time_hour</th><th scope=col>carriers</th></tr>\n",
              "\t<tr><th scope=col>&lt;chr&gt;</th><th scope=col>&lt;int&gt;</th><th scope=col>&lt;int&gt;</th><th scope=col>&lt;int&gt;</th><th scope=col>&lt;int&gt;</th><th scope=col>&lt;int&gt;</th><th scope=col>&lt;dbl&gt;</th><th scope=col>&lt;int&gt;</th><th scope=col>&lt;int&gt;</th><th scope=col>&lt;dbl&gt;</th><th scope=col>⋯</th><th scope=col>&lt;int&gt;</th><th scope=col>&lt;chr&gt;</th><th scope=col>&lt;chr&gt;</th><th scope=col>&lt;chr&gt;</th><th scope=col>&lt;dbl&gt;</th><th scope=col>&lt;dbl&gt;</th><th scope=col>&lt;dbl&gt;</th><th scope=col>&lt;dbl&gt;</th><th scope=col>&lt;dttm&gt;</th><th scope=col>&lt;chr&gt;</th></tr>\n",
              "</thead>\n",
              "<tbody>\n",
              "\t<tr><td>1</td><td>2013</td><td>1</td><td>1</td><td>517</td><td>515</td><td> 2</td><td> 830</td><td> 819</td><td> 11</td><td>⋯</td><td>1545</td><td>N14228</td><td>EWR</td><td>IAH</td><td>227</td><td>1400</td><td>5</td><td>15</td><td>2013-01-01 05:00:00</td><td>United Air Lines Inc. </td></tr>\n",
              "\t<tr><td>2</td><td>2013</td><td>1</td><td>1</td><td>533</td><td>529</td><td> 4</td><td> 850</td><td> 830</td><td> 20</td><td>⋯</td><td>1714</td><td>N24211</td><td>LGA</td><td>IAH</td><td>227</td><td>1416</td><td>5</td><td>29</td><td>2013-01-01 05:00:00</td><td>United Air Lines Inc. </td></tr>\n",
              "\t<tr><td>3</td><td>2013</td><td>1</td><td>1</td><td>542</td><td>540</td><td> 2</td><td> 923</td><td> 850</td><td> 33</td><td>⋯</td><td>1141</td><td>N619AA</td><td>JFK</td><td>MIA</td><td>160</td><td>1089</td><td>5</td><td>40</td><td>2013-01-01 05:00:00</td><td>American Airlines Inc.</td></tr>\n",
              "\t<tr><td>4</td><td>2013</td><td>1</td><td>1</td><td>544</td><td>545</td><td>-1</td><td>1004</td><td>1022</td><td>-18</td><td>⋯</td><td> 725</td><td>N804JB</td><td>JFK</td><td>BQN</td><td>183</td><td>1576</td><td>5</td><td>45</td><td>2013-01-01 05:00:00</td><td>JetBlue Airways       </td></tr>\n",
              "\t<tr><td>5</td><td>2013</td><td>1</td><td>1</td><td>554</td><td>600</td><td>-6</td><td> 812</td><td> 837</td><td>-25</td><td>⋯</td><td> 461</td><td>N668DN</td><td>LGA</td><td>ATL</td><td>116</td><td> 762</td><td>6</td><td> 0</td><td>2013-01-01 06:00:00</td><td>Delta Air Lines Inc.  </td></tr>\n",
              "</tbody>\n",
              "</table>\n"
            ],
            "text/markdown": "\nA tibble: 5 × 21\n\n| rowname &lt;chr&gt; | year &lt;int&gt; | month &lt;int&gt; | day &lt;int&gt; | dep_time &lt;int&gt; | sched_dep_time &lt;int&gt; | dep_delay &lt;dbl&gt; | arr_time &lt;int&gt; | sched_arr_time &lt;int&gt; | arr_delay &lt;dbl&gt; | ⋯ ⋯ | flight &lt;int&gt; | tailnum &lt;chr&gt; | origin &lt;chr&gt; | dest &lt;chr&gt; | air_time &lt;dbl&gt; | distance &lt;dbl&gt; | hour &lt;dbl&gt; | minute &lt;dbl&gt; | time_hour &lt;dttm&gt; | carriers &lt;chr&gt; |\n|---|---|---|---|---|---|---|---|---|---|---|---|---|---|---|---|---|---|---|---|---|\n| 1 | 2013 | 1 | 1 | 517 | 515 |  2 |  830 |  819 |  11 | ⋯ | 1545 | N14228 | EWR | IAH | 227 | 1400 | 5 | 15 | 2013-01-01 05:00:00 | United Air Lines Inc.  |\n| 2 | 2013 | 1 | 1 | 533 | 529 |  4 |  850 |  830 |  20 | ⋯ | 1714 | N24211 | LGA | IAH | 227 | 1416 | 5 | 29 | 2013-01-01 05:00:00 | United Air Lines Inc.  |\n| 3 | 2013 | 1 | 1 | 542 | 540 |  2 |  923 |  850 |  33 | ⋯ | 1141 | N619AA | JFK | MIA | 160 | 1089 | 5 | 40 | 2013-01-01 05:00:00 | American Airlines Inc. |\n| 4 | 2013 | 1 | 1 | 544 | 545 | -1 | 1004 | 1022 | -18 | ⋯ |  725 | N804JB | JFK | BQN | 183 | 1576 | 5 | 45 | 2013-01-01 05:00:00 | JetBlue Airways        |\n| 5 | 2013 | 1 | 1 | 554 | 600 | -6 |  812 |  837 | -25 | ⋯ |  461 | N668DN | LGA | ATL | 116 |  762 | 6 |  0 | 2013-01-01 06:00:00 | Delta Air Lines Inc.   |\n\n",
            "text/latex": "A tibble: 5 × 21\n\\begin{tabular}{lllllllllllllllllllll}\n rowname & year & month & day & dep\\_time & sched\\_dep\\_time & dep\\_delay & arr\\_time & sched\\_arr\\_time & arr\\_delay & ⋯ & flight & tailnum & origin & dest & air\\_time & distance & hour & minute & time\\_hour & carriers\\\\\n <chr> & <int> & <int> & <int> & <int> & <int> & <dbl> & <int> & <int> & <dbl> & ⋯ & <int> & <chr> & <chr> & <chr> & <dbl> & <dbl> & <dbl> & <dbl> & <dttm> & <chr>\\\\\n\\hline\n\t 1 & 2013 & 1 & 1 & 517 & 515 &  2 &  830 &  819 &  11 & ⋯ & 1545 & N14228 & EWR & IAH & 227 & 1400 & 5 & 15 & 2013-01-01 05:00:00 & United Air Lines Inc. \\\\\n\t 2 & 2013 & 1 & 1 & 533 & 529 &  4 &  850 &  830 &  20 & ⋯ & 1714 & N24211 & LGA & IAH & 227 & 1416 & 5 & 29 & 2013-01-01 05:00:00 & United Air Lines Inc. \\\\\n\t 3 & 2013 & 1 & 1 & 542 & 540 &  2 &  923 &  850 &  33 & ⋯ & 1141 & N619AA & JFK & MIA & 160 & 1089 & 5 & 40 & 2013-01-01 05:00:00 & American Airlines Inc.\\\\\n\t 4 & 2013 & 1 & 1 & 544 & 545 & -1 & 1004 & 1022 & -18 & ⋯ &  725 & N804JB & JFK & BQN & 183 & 1576 & 5 & 45 & 2013-01-01 05:00:00 & JetBlue Airways       \\\\\n\t 5 & 2013 & 1 & 1 & 554 & 600 & -6 &  812 &  837 & -25 & ⋯ &  461 & N668DN & LGA & ATL & 116 &  762 & 6 &  0 & 2013-01-01 06:00:00 & Delta Air Lines Inc.  \\\\\n\\end{tabular}\n",
            "text/plain": [
              "  rowname year month day dep_time sched_dep_time dep_delay arr_time\n",
              "1 1       2013 1     1   517      515             2         830    \n",
              "2 2       2013 1     1   533      529             4         850    \n",
              "3 3       2013 1     1   542      540             2         923    \n",
              "4 4       2013 1     1   544      545            -1        1004    \n",
              "5 5       2013 1     1   554      600            -6         812    \n",
              "  sched_arr_time arr_delay ⋯ flight tailnum origin dest air_time distance hour\n",
              "1  819            11       ⋯ 1545   N14228  EWR    IAH  227      1400     5   \n",
              "2  830            20       ⋯ 1714   N24211  LGA    IAH  227      1416     5   \n",
              "3  850            33       ⋯ 1141   N619AA  JFK    MIA  160      1089     5   \n",
              "4 1022           -18       ⋯  725   N804JB  JFK    BQN  183      1576     5   \n",
              "5  837           -25       ⋯  461   N668DN  LGA    ATL  116       762     6   \n",
              "  minute time_hour           carriers              \n",
              "1 15     2013-01-01 05:00:00 United Air Lines Inc. \n",
              "2 29     2013-01-01 05:00:00 United Air Lines Inc. \n",
              "3 40     2013-01-01 05:00:00 American Airlines Inc.\n",
              "4 45     2013-01-01 05:00:00 JetBlue Airways       \n",
              "5  0     2013-01-01 06:00:00 Delta Air Lines Inc.  "
            ]
          },
          "metadata": {}
        },
        {
          "output_type": "display_data",
          "data": {
            "text/html": [
              "<style>\n",
              ".dl-inline {width: auto; margin:0; padding: 0}\n",
              ".dl-inline>dt, .dl-inline>dd {float: none; width: auto; display: inline-block}\n",
              ".dl-inline>dt::after {content: \":\\0020\"; padding-right: .5ex}\n",
              ".dl-inline>dt:not(:first-of-type) {padding-left: .5ex}\n",
              "</style><dl class=dl-inline><dt>rowname</dt><dd>0</dd><dt>year</dt><dd>0</dd><dt>month</dt><dd>0</dd><dt>day</dt><dd>0</dd><dt>dep_time</dt><dd>8255</dd><dt>sched_dep_time</dt><dd>0</dd><dt>dep_delay</dt><dd>8255</dd><dt>arr_time</dt><dd>8713</dd><dt>sched_arr_time</dt><dd>0</dd><dt>arr_delay</dt><dd>9430</dd><dt>carrier</dt><dd>0</dd><dt>flight</dt><dd>0</dd><dt>tailnum</dt><dd>2512</dd><dt>origin</dt><dd>0</dd><dt>dest</dt><dd>0</dd><dt>air_time</dt><dd>9430</dd><dt>distance</dt><dd>0</dd><dt>hour</dt><dd>0</dd><dt>minute</dt><dd>0</dd><dt>time_hour</dt><dd>0</dd><dt>carriers</dt><dd>0</dd></dl>\n"
            ],
            "text/markdown": "rowname\n:   0year\n:   0month\n:   0day\n:   0dep_time\n:   8255sched_dep_time\n:   0dep_delay\n:   8255arr_time\n:   8713sched_arr_time\n:   0arr_delay\n:   9430carrier\n:   0flight\n:   0tailnum\n:   2512origin\n:   0dest\n:   0air_time\n:   9430distance\n:   0hour\n:   0minute\n:   0time_hour\n:   0carriers\n:   0\n\n",
            "text/latex": "\\begin{description*}\n\\item[rowname] 0\n\\item[year] 0\n\\item[month] 0\n\\item[day] 0\n\\item[dep\\textbackslash{}\\_time] 8255\n\\item[sched\\textbackslash{}\\_dep\\textbackslash{}\\_time] 0\n\\item[dep\\textbackslash{}\\_delay] 8255\n\\item[arr\\textbackslash{}\\_time] 8713\n\\item[sched\\textbackslash{}\\_arr\\textbackslash{}\\_time] 0\n\\item[arr\\textbackslash{}\\_delay] 9430\n\\item[carrier] 0\n\\item[flight] 0\n\\item[tailnum] 2512\n\\item[origin] 0\n\\item[dest] 0\n\\item[air\\textbackslash{}\\_time] 9430\n\\item[distance] 0\n\\item[hour] 0\n\\item[minute] 0\n\\item[time\\textbackslash{}\\_hour] 0\n\\item[carriers] 0\n\\end{description*}\n",
            "text/plain": [
              "       rowname           year          month            day       dep_time \n",
              "             0              0              0              0           8255 \n",
              "sched_dep_time      dep_delay       arr_time sched_arr_time      arr_delay \n",
              "             0           8255           8713              0           9430 \n",
              "       carrier         flight        tailnum         origin           dest \n",
              "             0              0           2512              0              0 \n",
              "      air_time       distance           hour         minute      time_hour \n",
              "          9430              0              0              0              0 \n",
              "      carriers \n",
              "             0 "
            ]
          },
          "metadata": {}
        }
      ],
      "source": [
        "df <- flights %>% \n",
        "  rownames_to_column() %>%\n",
        "  left_join(airlines,by = c(\"carrier\" = \"carrier\")) %>%\n",
        "  rename(carriers = name)\n",
        "\n",
        "glimpse(df)\n",
        "tibble(df) %>%\n",
        "head(5)\n",
        "apply(df, MARGIN=2,function(col) sum(is.na(col)))"
      ]
    },
    {
      "cell_type": "markdown",
      "metadata": {
        "id": "y3cD4UJIDcFH"
      },
      "source": [
        "# Question 1 - Where is location has more deley flight on department & arriving?\n",
        "\n",
        "*   Answer \t\n",
        "           origin most deley = John F Kennedy Intl\tdate: 09/01/2013\n",
        "           department most delat = Honolulu Intl date: 09/01/2013\n",
        "           cause of delay is not storm.\n"
      ]
    },
    {
      "cell_type": "code",
      "execution_count": null,
      "metadata": {
        "colab": {
          "base_uri": "https://localhost:8080/",
          "height": 161
        },
        "id": "u3kaAD6lDc6G",
        "outputId": "17ed071b-742c-48f2-c1b0-5f915d9c7fb4"
      },
      "outputs": [
        {
          "output_type": "display_data",
          "data": {
            "text/html": [
              "<table class=\"dataframe\">\n",
              "<caption>A grouped_df: 2 × 8</caption>\n",
              "<thead>\n",
              "\t<tr><th scope=col>rowname</th><th scope=col>year</th><th scope=col>month</th><th scope=col>day</th><th scope=col>origins</th><th scope=col>dep_delay</th><th scope=col>dests</th><th scope=col>arr_delay</th></tr>\n",
              "\t<tr><th scope=col>&lt;chr&gt;</th><th scope=col>&lt;int&gt;</th><th scope=col>&lt;int&gt;</th><th scope=col>&lt;int&gt;</th><th scope=col>&lt;chr&gt;</th><th scope=col>&lt;dbl&gt;</th><th scope=col>&lt;chr&gt;</th><th scope=col>&lt;dbl&gt;</th></tr>\n",
              "</thead>\n",
              "<tbody>\n",
              "\t<tr><td>7073</td><td>2013</td><td>1</td><td>9</td><td>John F Kennedy Intl</td><td>1301</td><td>NA           </td><td>  NA</td></tr>\n",
              "\t<tr><td>7073</td><td>2013</td><td>1</td><td>9</td><td>NA                 </td><td>  NA</td><td>Honolulu Intl</td><td>1272</td></tr>\n",
              "</tbody>\n",
              "</table>\n"
            ],
            "text/markdown": "\nA grouped_df: 2 × 8\n\n| rowname &lt;chr&gt; | year &lt;int&gt; | month &lt;int&gt; | day &lt;int&gt; | origins &lt;chr&gt; | dep_delay &lt;dbl&gt; | dests &lt;chr&gt; | arr_delay &lt;dbl&gt; |\n|---|---|---|---|---|---|---|---|\n| 7073 | 2013 | 1 | 9 | John F Kennedy Intl | 1301 | NA            |   NA |\n| 7073 | 2013 | 1 | 9 | NA                  |   NA | Honolulu Intl | 1272 |\n\n",
            "text/latex": "A grouped\\_df: 2 × 8\n\\begin{tabular}{llllllll}\n rowname & year & month & day & origins & dep\\_delay & dests & arr\\_delay\\\\\n <chr> & <int> & <int> & <int> & <chr> & <dbl> & <chr> & <dbl>\\\\\n\\hline\n\t 7073 & 2013 & 1 & 9 & John F Kennedy Intl & 1301 & NA            &   NA\\\\\n\t 7073 & 2013 & 1 & 9 & NA                  &   NA & Honolulu Intl & 1272\\\\\n\\end{tabular}\n",
            "text/plain": [
              "  rowname year month day origins             dep_delay dests         arr_delay\n",
              "1 7073    2013 1     9   John F Kennedy Intl 1301      NA              NA     \n",
              "2 7073    2013 1     9   NA                    NA      Honolulu Intl 1272     "
            ]
          },
          "metadata": {}
        }
      ],
      "source": [
        "q1 <- df \n",
        "or <- q1 %>%\n",
        "left_join(airports,by = c(\"origin\" = \"faa\")) %>%\n",
        "rename(origins = name) %>%\n",
        "select(rowname,year,month,day,origins,dep_delay) %>%\n",
        "group_by(origins) %>%\n",
        "arrange(desc(dep_delay)) %>%\n",
        "head(1)\n",
        "\n",
        "de <- q1 %>%\n",
        "left_join(airports,by = c(\"dest\" = \"faa\")) %>%\n",
        "rename(dests = name) %>%\n",
        "select(rowname,year,month,day,dests,arr_delay) %>%\n",
        "group_by(dests) %>%\n",
        "arrange(desc(arr_delay)) %>%\n",
        "head(1)\n",
        "\n",
        "tt <- list(or,de)\n",
        "bind_rows(tt)"
      ]
    },
    {
      "cell_type": "markdown",
      "metadata": {
        "id": "87vI8AZpDkXu"
      },
      "source": [
        "# Question 2 - Which top cariers used each month?\n",
        "\n",
        "*   Answer \t\n",
        "           Jan - United Air Lines Inc.\n",
        "           Feb - United Air Lines Inc.\n",
        "           Mar - United Air Lines Inc.\n",
        "           Apr - United Air Lines Inc.\n",
        "           May - United Air Lines Inc.\n",
        "           Jun - United Air Lines Inc.\n",
        "           Jur - United Air Lines Inc.\n",
        "           Aug - United Air Lines Inc.\n",
        "           Sep - ExpressJet Airlines Inc.\n",
        "           Oct - United Air Lines Inc.\n",
        "           Nov - United Air Lines Inc.\n",
        "           Dec - United Air Lines Inc.\n",
        "\n",
        "           But most top 3 each month in 2013 are United Air Lines Inc., ExpressJet Airlines Inc., JetBlue Airways \n"
      ]
    },
    {
      "cell_type": "code",
      "execution_count": null,
      "metadata": {
        "colab": {
          "base_uri": "https://localhost:8080/",
          "height": 667
        },
        "id": "aER9heR2DkoG",
        "outputId": "6d563606-5b90-4f57-cc69-72aafcca26fb"
      },
      "outputs": [
        {
          "output_type": "display_data",
          "data": {
            "text/html": [
              "<table class=\"dataframe\">\n",
              "<caption>A grouped_df: 12 × 3</caption>\n",
              "<thead>\n",
              "\t<tr><th scope=col>month</th><th scope=col>carriers</th><th scope=col>count</th></tr>\n",
              "\t<tr><th scope=col>&lt;int&gt;</th><th scope=col>&lt;chr&gt;</th><th scope=col>&lt;int&gt;</th></tr>\n",
              "</thead>\n",
              "<tbody>\n",
              "\t<tr><td> 1</td><td>United Air Lines Inc.   </td><td>4637</td></tr>\n",
              "\t<tr><td> 2</td><td>United Air Lines Inc.   </td><td>4346</td></tr>\n",
              "\t<tr><td> 3</td><td>United Air Lines Inc.   </td><td>4971</td></tr>\n",
              "\t<tr><td> 4</td><td>United Air Lines Inc.   </td><td>5047</td></tr>\n",
              "\t<tr><td> 5</td><td>United Air Lines Inc.   </td><td>4960</td></tr>\n",
              "\t<tr><td> 6</td><td>United Air Lines Inc.   </td><td>4975</td></tr>\n",
              "\t<tr><td> 7</td><td>United Air Lines Inc.   </td><td>5066</td></tr>\n",
              "\t<tr><td> 8</td><td>United Air Lines Inc.   </td><td>5124</td></tr>\n",
              "\t<tr><td> 9</td><td>ExpressJet Airlines Inc.</td><td>4725</td></tr>\n",
              "\t<tr><td>10</td><td>United Air Lines Inc.   </td><td>5060</td></tr>\n",
              "\t<tr><td>11</td><td>United Air Lines Inc.   </td><td>4854</td></tr>\n",
              "\t<tr><td>12</td><td>United Air Lines Inc.   </td><td>4931</td></tr>\n",
              "</tbody>\n",
              "</table>\n"
            ],
            "text/markdown": "\nA grouped_df: 12 × 3\n\n| month &lt;int&gt; | carriers &lt;chr&gt; | count &lt;int&gt; |\n|---|---|---|\n|  1 | United Air Lines Inc.    | 4637 |\n|  2 | United Air Lines Inc.    | 4346 |\n|  3 | United Air Lines Inc.    | 4971 |\n|  4 | United Air Lines Inc.    | 5047 |\n|  5 | United Air Lines Inc.    | 4960 |\n|  6 | United Air Lines Inc.    | 4975 |\n|  7 | United Air Lines Inc.    | 5066 |\n|  8 | United Air Lines Inc.    | 5124 |\n|  9 | ExpressJet Airlines Inc. | 4725 |\n| 10 | United Air Lines Inc.    | 5060 |\n| 11 | United Air Lines Inc.    | 4854 |\n| 12 | United Air Lines Inc.    | 4931 |\n\n",
            "text/latex": "A grouped\\_df: 12 × 3\n\\begin{tabular}{lll}\n month & carriers & count\\\\\n <int> & <chr> & <int>\\\\\n\\hline\n\t  1 & United Air Lines Inc.    & 4637\\\\\n\t  2 & United Air Lines Inc.    & 4346\\\\\n\t  3 & United Air Lines Inc.    & 4971\\\\\n\t  4 & United Air Lines Inc.    & 5047\\\\\n\t  5 & United Air Lines Inc.    & 4960\\\\\n\t  6 & United Air Lines Inc.    & 4975\\\\\n\t  7 & United Air Lines Inc.    & 5066\\\\\n\t  8 & United Air Lines Inc.    & 5124\\\\\n\t  9 & ExpressJet Airlines Inc. & 4725\\\\\n\t 10 & United Air Lines Inc.    & 5060\\\\\n\t 11 & United Air Lines Inc.    & 4854\\\\\n\t 12 & United Air Lines Inc.    & 4931\\\\\n\\end{tabular}\n",
            "text/plain": [
              "   month carriers                 count\n",
              "1   1    United Air Lines Inc.    4637 \n",
              "2   2    United Air Lines Inc.    4346 \n",
              "3   3    United Air Lines Inc.    4971 \n",
              "4   4    United Air Lines Inc.    5047 \n",
              "5   5    United Air Lines Inc.    4960 \n",
              "6   6    United Air Lines Inc.    4975 \n",
              "7   7    United Air Lines Inc.    5066 \n",
              "8   8    United Air Lines Inc.    5124 \n",
              "9   9    ExpressJet Airlines Inc. 4725 \n",
              "10 10    United Air Lines Inc.    5060 \n",
              "11 11    United Air Lines Inc.    4854 \n",
              "12 12    United Air Lines Inc.    4931 "
            ]
          },
          "metadata": {}
        },
        {
          "output_type": "stream",
          "name": "stderr",
          "text": [
            "\u001b[1m\u001b[22mAdding missing grouping variables: `month`\n"
          ]
        },
        {
          "output_type": "display_data",
          "data": {
            "text/html": [
              "<table class=\"dataframe\">\n",
              "<caption>A grouped_df: 3 × 2</caption>\n",
              "<thead>\n",
              "\t<tr><th scope=col>carriers</th><th scope=col>top3_count</th></tr>\n",
              "\t<tr><th scope=col>&lt;chr&gt;</th><th scope=col>&lt;int&gt;</th></tr>\n",
              "</thead>\n",
              "<tbody>\n",
              "\t<tr><td>ExpressJet Airlines Inc.</td><td>12</td></tr>\n",
              "\t<tr><td>JetBlue Airways         </td><td>12</td></tr>\n",
              "\t<tr><td>United Air Lines Inc.   </td><td>12</td></tr>\n",
              "</tbody>\n",
              "</table>\n"
            ],
            "text/markdown": "\nA grouped_df: 3 × 2\n\n| carriers &lt;chr&gt; | top3_count &lt;int&gt; |\n|---|---|\n| ExpressJet Airlines Inc. | 12 |\n| JetBlue Airways          | 12 |\n| United Air Lines Inc.    | 12 |\n\n",
            "text/latex": "A grouped\\_df: 3 × 2\n\\begin{tabular}{ll}\n carriers & top3\\_count\\\\\n <chr> & <int>\\\\\n\\hline\n\t ExpressJet Airlines Inc. & 12\\\\\n\t JetBlue Airways          & 12\\\\\n\t United Air Lines Inc.    & 12\\\\\n\\end{tabular}\n",
            "text/plain": [
              "  carriers                 top3_count\n",
              "1 ExpressJet Airlines Inc. 12        \n",
              "2 JetBlue Airways          12        \n",
              "3 United Air Lines Inc.    12        "
            ]
          },
          "metadata": {}
        }
      ],
      "source": [
        "q2 <- df  %>%\n",
        "group_by(month) %>%\n",
        "count(carriers) %>%\n",
        "rename(count = n) %>%\n",
        "arrange(month,desc(count))\n",
        "\n",
        "q21 <- q2 %>% # Find top carriers each month of 2013\n",
        "select(month,carriers,count) %>%\n",
        "filter(count %in% count[1]) \n",
        "q21\n",
        "\n",
        "q22 <- q2 %>% # Find count of top 3 carriers each month of 2013\n",
        "select(month,carriers,count) %>%\n",
        "filter(count %in% count[1:3]) \n",
        "q22 %>%\n",
        "select(carriers,count) %>%\n",
        "group_by(carriers) %>%\n",
        "count(carriers) %>%\n",
        "rename(top3_count = n)"
      ]
    },
    {
      "cell_type": "markdown",
      "metadata": {
        "id": "eFw1Z6TbDr5t"
      },
      "source": [
        "# Question 3 - Where do most of the flights from and go ?\n",
        "*   Answer \t\n",
        "           \n",
        "           Most of flight = John F. Kennedy International Airport to \n",
        "           Los Angeles International Airport (JFK to LAX) \n",
        "           Most of them traveled before noon and air time in flight average is \n",
        "           327.6364."
      ]
    },
    {
      "cell_type": "code",
      "execution_count": null,
      "metadata": {
        "colab": {
          "base_uri": "https://localhost:8080/",
          "height": 465
        },
        "id": "6TQQ9h0LgDx9",
        "outputId": "d1eecc87-3683-4d6d-bf0b-c975dd657abc"
      },
      "outputs": [
        {
          "output_type": "display_data",
          "data": {
            "text/html": [
              "<table class=\"dataframe\">\n",
              "<caption>A tibble: 3 × 3</caption>\n",
              "<thead>\n",
              "\t<tr><th scope=col>origin</th><th scope=col>dest</th><th scope=col>n</th></tr>\n",
              "\t<tr><th scope=col>&lt;chr&gt;</th><th scope=col>&lt;chr&gt;</th><th scope=col>&lt;int&gt;</th></tr>\n",
              "</thead>\n",
              "<tbody>\n",
              "\t<tr><td>JFK</td><td>LAX</td><td>11262</td></tr>\n",
              "\t<tr><td>LGA</td><td>ATL</td><td>10263</td></tr>\n",
              "\t<tr><td>LGA</td><td>ORD</td><td> 8857</td></tr>\n",
              "</tbody>\n",
              "</table>\n"
            ],
            "text/markdown": "\nA tibble: 3 × 3\n\n| origin &lt;chr&gt; | dest &lt;chr&gt; | n &lt;int&gt; |\n|---|---|---|\n| JFK | LAX | 11262 |\n| LGA | ATL | 10263 |\n| LGA | ORD |  8857 |\n\n",
            "text/latex": "A tibble: 3 × 3\n\\begin{tabular}{lll}\n origin & dest & n\\\\\n <chr> & <chr> & <int>\\\\\n\\hline\n\t JFK & LAX & 11262\\\\\n\t LGA & ATL & 10263\\\\\n\t LGA & ORD &  8857\\\\\n\\end{tabular}\n",
            "text/plain": [
              "  origin dest n    \n",
              "1 JFK    LAX  11262\n",
              "2 LGA    ATL  10263\n",
              "3 LGA    ORD   8857"
            ]
          },
          "metadata": {}
        },
        {
          "output_type": "stream",
          "name": "stderr",
          "text": [
            "\u001b[1m\u001b[22m`summarise()` has grouped output by 'origin', 'dest', 'hour'. You can override\n",
            "using the `.groups` argument.\n"
          ]
        },
        {
          "output_type": "display_data",
          "data": {
            "text/html": [
              "<table class=\"dataframe\">\n",
              "<caption>A grouped_df: 5 × 6</caption>\n",
              "<thead>\n",
              "\t<tr><th scope=col>origin</th><th scope=col>dest</th><th scope=col>hour</th><th scope=col>minute</th><th scope=col>total</th><th scope=col>h</th></tr>\n",
              "\t<tr><th scope=col>&lt;chr&gt;</th><th scope=col>&lt;chr&gt;</th><th scope=col>&lt;dbl&gt;</th><th scope=col>&lt;dbl&gt;</th><th scope=col>&lt;int&gt;</th><th scope=col>&lt;dbl&gt;</th></tr>\n",
              "</thead>\n",
              "<tbody>\n",
              "\t<tr><td>JFK</td><td>LAX</td><td>12</td><td> 0</td><td>726</td><td>327.6364</td></tr>\n",
              "\t<tr><td>JFK</td><td>LAX</td><td> 7</td><td> 0</td><td>686</td><td>328.6224</td></tr>\n",
              "\t<tr><td>JFK</td><td>LAX</td><td> 9</td><td> 0</td><td>561</td><td>331.0053</td></tr>\n",
              "\t<tr><td>JFK</td><td>LAX</td><td>13</td><td>45</td><td>360</td><td>330.0778</td></tr>\n",
              "\t<tr><td>JFK</td><td>LAX</td><td>16</td><td>55</td><td>360</td><td>335.2528</td></tr>\n",
              "</tbody>\n",
              "</table>\n"
            ],
            "text/markdown": "\nA grouped_df: 5 × 6\n\n| origin &lt;chr&gt; | dest &lt;chr&gt; | hour &lt;dbl&gt; | minute &lt;dbl&gt; | total &lt;int&gt; | h &lt;dbl&gt; |\n|---|---|---|---|---|---|\n| JFK | LAX | 12 |  0 | 726 | 327.6364 |\n| JFK | LAX |  7 |  0 | 686 | 328.6224 |\n| JFK | LAX |  9 |  0 | 561 | 331.0053 |\n| JFK | LAX | 13 | 45 | 360 | 330.0778 |\n| JFK | LAX | 16 | 55 | 360 | 335.2528 |\n\n",
            "text/latex": "A grouped\\_df: 5 × 6\n\\begin{tabular}{llllll}\n origin & dest & hour & minute & total & h\\\\\n <chr> & <chr> & <dbl> & <dbl> & <int> & <dbl>\\\\\n\\hline\n\t JFK & LAX & 12 &  0 & 726 & 327.6364\\\\\n\t JFK & LAX &  7 &  0 & 686 & 328.6224\\\\\n\t JFK & LAX &  9 &  0 & 561 & 331.0053\\\\\n\t JFK & LAX & 13 & 45 & 360 & 330.0778\\\\\n\t JFK & LAX & 16 & 55 & 360 & 335.2528\\\\\n\\end{tabular}\n",
            "text/plain": [
              "  origin dest hour minute total h       \n",
              "1 JFK    LAX  12    0     726   327.6364\n",
              "2 JFK    LAX   7    0     686   328.6224\n",
              "3 JFK    LAX   9    0     561   331.0053\n",
              "4 JFK    LAX  13   45     360   330.0778\n",
              "5 JFK    LAX  16   55     360   335.2528"
            ]
          },
          "metadata": {}
        }
      ],
      "source": [
        "df %>% # Find Most of flight\n",
        "count(origin,dest) %>%\n",
        "arrange(desc(n)) %>%\n",
        "head(3) \n",
        "\n",
        "q3 <- df %>% # Find Time most of flight\n",
        "select(origin,dest,hour,minute,air_time) %>%\n",
        "group_by(origin,dest,hour,minute) %>%\n",
        "filter(!is.na(air_time)) %>%\n",
        "filter(origin == \"JFK\" & dest == \"LAX\") %>%\n",
        "summarise(total = sum(!is.na(origin)),\n",
        "           h = mean(air_time)) %>%\n",
        "arrange(desc(by = total)) %>% \n",
        "head(5) \n",
        "q3 "
      ]
    },
    {
      "cell_type": "markdown",
      "source": [
        "# Question 4 - Where is most destination on December?\n",
        "*   Answer \t\n",
        "           \n",
        "           1.ATL - Atlanta International Airport\n",
        "           2.LAX - Los Angeles International Airport\n",
        "           3.MCO - Orlando International Airport\n",
        "           "
      ],
      "metadata": {
        "id": "l-ucFNUCAbw5"
      }
    },
    {
      "cell_type": "code",
      "source": [
        "q4 <- df %>%\n",
        "select(month,dest) %>%\n",
        "group_by(dest) %>%\n",
        "filter(month == 12) %>%\n",
        "summarise(total = sum(!is.na(dest))) %>%\n",
        "arrange(desc(by = total)) %>%\n",
        "head(3)\n",
        "q4"
      ],
      "metadata": {
        "colab": {
          "base_uri": "https://localhost:8080/",
          "height": 192
        },
        "id": "MfapiB2BAcIp",
        "outputId": "d1e42372-4280-4c59-d136-cff7ff62aa59"
      },
      "execution_count": null,
      "outputs": [
        {
          "output_type": "display_data",
          "data": {
            "text/html": [
              "<table class=\"dataframe\">\n",
              "<caption>A tibble: 3 × 2</caption>\n",
              "<thead>\n",
              "\t<tr><th scope=col>dest</th><th scope=col>total</th></tr>\n",
              "\t<tr><th scope=col>&lt;chr&gt;</th><th scope=col>&lt;int&gt;</th></tr>\n",
              "</thead>\n",
              "<tbody>\n",
              "\t<tr><td>ATL</td><td>1463</td></tr>\n",
              "\t<tr><td>LAX</td><td>1408</td></tr>\n",
              "\t<tr><td>MCO</td><td>1219</td></tr>\n",
              "</tbody>\n",
              "</table>\n"
            ],
            "text/markdown": "\nA tibble: 3 × 2\n\n| dest &lt;chr&gt; | total &lt;int&gt; |\n|---|---|\n| ATL | 1463 |\n| LAX | 1408 |\n| MCO | 1219 |\n\n",
            "text/latex": "A tibble: 3 × 2\n\\begin{tabular}{ll}\n dest & total\\\\\n <chr> & <int>\\\\\n\\hline\n\t ATL & 1463\\\\\n\t LAX & 1408\\\\\n\t MCO & 1219\\\\\n\\end{tabular}\n",
            "text/plain": [
              "  dest total\n",
              "1 ATL  1463 \n",
              "2 LAX  1408 \n",
              "3 MCO  1219 "
            ]
          },
          "metadata": {}
        }
      ]
    },
    {
      "cell_type": "markdown",
      "source": [
        "Question 5 - Which carrier fly to Atlanta International Airport the most in December 2013"
      ],
      "metadata": {
        "id": "fWzS5YFTMMdE"
      }
    },
    {
      "cell_type": "code",
      "source": [
        "q5 <- df %>%\n",
        "select(month,dest,carriers) %>%\n",
        "group_by(carriers,dest) %>%\n",
        "filter(month == 12,dest == \"ATL\") %>%\n",
        "summarise(total = sum(!is.na(dest))) %>%\n",
        "arrange(desc(by = total))\n",
        "q5"
      ],
      "metadata": {
        "id": "_JxKfhJjMMlT",
        "colab": {
          "base_uri": "https://localhost:8080/",
          "height": 321
        },
        "outputId": "feef92d5-e3c6-4311-ab40-2634e46fa45d"
      },
      "execution_count": null,
      "outputs": [
        {
          "output_type": "stream",
          "name": "stderr",
          "text": [
            "\u001b[1m\u001b[22m`summarise()` has grouped output by 'carriers'. You can override using the\n",
            "`.groups` argument.\n"
          ]
        },
        {
          "output_type": "display_data",
          "data": {
            "text/html": [
              "<table class=\"dataframe\">\n",
              "<caption>A grouped_df: 6 × 3</caption>\n",
              "<thead>\n",
              "\t<tr><th scope=col>carriers</th><th scope=col>dest</th><th scope=col>total</th></tr>\n",
              "\t<tr><th scope=col>&lt;chr&gt;</th><th scope=col>&lt;chr&gt;</th><th scope=col>&lt;int&gt;</th></tr>\n",
              "</thead>\n",
              "<tbody>\n",
              "\t<tr><td>Delta Air Lines Inc.       </td><td>ATL</td><td>946</td></tr>\n",
              "\t<tr><td>Envoy Air                  </td><td>ATL</td><td>189</td></tr>\n",
              "\t<tr><td>AirTran Airways Corporation</td><td>ATL</td><td>153</td></tr>\n",
              "\t<tr><td>ExpressJet Airlines Inc.   </td><td>ATL</td><td>131</td></tr>\n",
              "\t<tr><td>Southwest Airlines Co.     </td><td>ATL</td><td> 31</td></tr>\n",
              "\t<tr><td>United Air Lines Inc.      </td><td>ATL</td><td> 13</td></tr>\n",
              "</tbody>\n",
              "</table>\n"
            ],
            "text/markdown": "\nA grouped_df: 6 × 3\n\n| carriers &lt;chr&gt; | dest &lt;chr&gt; | total &lt;int&gt; |\n|---|---|---|\n| Delta Air Lines Inc.        | ATL | 946 |\n| Envoy Air                   | ATL | 189 |\n| AirTran Airways Corporation | ATL | 153 |\n| ExpressJet Airlines Inc.    | ATL | 131 |\n| Southwest Airlines Co.      | ATL |  31 |\n| United Air Lines Inc.       | ATL |  13 |\n\n",
            "text/latex": "A grouped\\_df: 6 × 3\n\\begin{tabular}{lll}\n carriers & dest & total\\\\\n <chr> & <chr> & <int>\\\\\n\\hline\n\t Delta Air Lines Inc.        & ATL & 946\\\\\n\t Envoy Air                   & ATL & 189\\\\\n\t AirTran Airways Corporation & ATL & 153\\\\\n\t ExpressJet Airlines Inc.    & ATL & 131\\\\\n\t Southwest Airlines Co.      & ATL &  31\\\\\n\t United Air Lines Inc.       & ATL &  13\\\\\n\\end{tabular}\n",
            "text/plain": [
              "  carriers                    dest total\n",
              "1 Delta Air Lines Inc.        ATL  946  \n",
              "2 Envoy Air                   ATL  189  \n",
              "3 AirTran Airways Corporation ATL  153  \n",
              "4 ExpressJet Airlines Inc.    ATL  131  \n",
              "5 Southwest Airlines Co.      ATL   31  \n",
              "6 United Air Lines Inc.       ATL   13  "
            ]
          },
          "metadata": {}
        }
      ]
    },
    {
      "cell_type": "code",
      "source": [],
      "metadata": {
        "id": "CbEzC1oEyMYj"
      },
      "execution_count": null,
      "outputs": []
    },
    {
      "cell_type": "code",
      "source": [
        "con <- dbConnect(\n",
        "  PostgreSQL(),\n",
        "  host = \"arjuna.db.elephantsql.com\",\n",
        "  dbname = \"hbxrjoub\",\n",
        "  port = 5432,\n",
        "  user = \"hbxrjoub\",\n",
        "  password = \"YOV9Yn2F87PUU3Gr6fwWRZuxsfOxQcbC\" )"
      ],
      "metadata": {
        "id": "7HAo0Br0Q2id"
      },
      "execution_count": null,
      "outputs": []
    },
    {
      "cell_type": "code",
      "source": [
        "dbWriteTable(con,\"dep_delay\", or)\n",
        "dbWriteTable(con,\"arr_delay\", de)\n",
        "dbWriteTable(con,\"top_carrier\", q21)\n",
        "dbWriteTable(con,\"most_flight\", q3)\n",
        "dbWriteTable(con,\"dest_dec\", q4)\n",
        "dbWriteTable(con,\"atl_carrier_dec\", q5)"
      ],
      "metadata": {
        "colab": {
          "base_uri": "https://localhost:8080/",
          "height": 468
        },
        "id": "WuddFbGwz5s4",
        "outputId": "ec9d3747-c3a2-4ae6-9566-e10d71ff4581"
      },
      "execution_count": null,
      "outputs": [
        {
          "output_type": "stream",
          "name": "stderr",
          "text": [
            "\u001b[1m\u001b[22mNew names:\n",
            "\u001b[36m•\u001b[39m `` -> `...1`\n",
            "Warning message in postgresqlWriteTable(conn, name, value, ...):\n",
            "“table dep_delay exists in database: aborting assignTable”\n"
          ]
        },
        {
          "output_type": "display_data",
          "data": {
            "text/html": [
              "FALSE"
            ],
            "text/markdown": "FALSE",
            "text/latex": "FALSE",
            "text/plain": [
              "[1] FALSE"
            ]
          },
          "metadata": {}
        },
        {
          "output_type": "stream",
          "name": "stderr",
          "text": [
            "\u001b[1m\u001b[22mNew names:\n",
            "\u001b[36m•\u001b[39m `` -> `...1`\n",
            "Warning message in postgresqlWriteTable(conn, name, value, ...):\n",
            "“table arr_delay exists in database: aborting assignTable”\n"
          ]
        },
        {
          "output_type": "display_data",
          "data": {
            "text/html": [
              "FALSE"
            ],
            "text/markdown": "FALSE",
            "text/latex": "FALSE",
            "text/plain": [
              "[1] FALSE"
            ]
          },
          "metadata": {}
        },
        {
          "output_type": "stream",
          "name": "stderr",
          "text": [
            "\u001b[1m\u001b[22mNew names:\n",
            "\u001b[36m•\u001b[39m `` -> `...1`\n",
            "Warning message in postgresqlWriteTable(conn, name, value, ...):\n",
            "“table top_carrier exists in database: aborting assignTable”\n"
          ]
        },
        {
          "output_type": "display_data",
          "data": {
            "text/html": [
              "FALSE"
            ],
            "text/markdown": "FALSE",
            "text/latex": "FALSE",
            "text/plain": [
              "[1] FALSE"
            ]
          },
          "metadata": {}
        },
        {
          "output_type": "stream",
          "name": "stderr",
          "text": [
            "\u001b[1m\u001b[22mNew names:\n",
            "\u001b[36m•\u001b[39m `` -> `...1`\n",
            "Warning message in postgresqlWriteTable(conn, name, value, ...):\n",
            "“table most_flight exists in database: aborting assignTable”\n"
          ]
        },
        {
          "output_type": "display_data",
          "data": {
            "text/html": [
              "FALSE"
            ],
            "text/markdown": "FALSE",
            "text/latex": "FALSE",
            "text/plain": [
              "[1] FALSE"
            ]
          },
          "metadata": {}
        },
        {
          "output_type": "stream",
          "name": "stderr",
          "text": [
            "Warning message in postgresqlWriteTable(conn, name, value, ...):\n",
            "“table dest_dec exists in database: aborting assignTable”\n"
          ]
        },
        {
          "output_type": "display_data",
          "data": {
            "text/html": [
              "FALSE"
            ],
            "text/markdown": "FALSE",
            "text/latex": "FALSE",
            "text/plain": [
              "[1] FALSE"
            ]
          },
          "metadata": {}
        },
        {
          "output_type": "stream",
          "name": "stderr",
          "text": [
            "\u001b[1m\u001b[22mNew names:\n",
            "\u001b[36m•\u001b[39m `` -> `...1`\n"
          ]
        },
        {
          "output_type": "display_data",
          "data": {
            "text/html": [
              "TRUE"
            ],
            "text/markdown": "TRUE",
            "text/latex": "TRUE",
            "text/plain": [
              "[1] TRUE"
            ]
          },
          "metadata": {}
        }
      ]
    },
    {
      "cell_type": "code",
      "source": [
        "dbListTables(con)"
      ],
      "metadata": {
        "id": "pDJrOE4K3lsD",
        "colab": {
          "base_uri": "https://localhost:8080/",
          "height": 34
        },
        "outputId": "e5cd1f86-8b73-4ded-a244-4e707370eee5"
      },
      "execution_count": null,
      "outputs": [
        {
          "output_type": "display_data",
          "data": {
            "text/html": [
              "<style>\n",
              ".list-inline {list-style: none; margin:0; padding: 0}\n",
              ".list-inline>li {display: inline-block}\n",
              ".list-inline>li:not(:last-child)::after {content: \"\\00b7\"; padding: 0 .5ex}\n",
              "</style>\n",
              "<ol class=list-inline><li>'student'</li><li>'cars'</li><li>'aaaa'</li><li>'bbbb'</li><li>'cccc'</li><li>'dddd'</li><li>'dep_delay'</li><li>'arr_delay'</li><li>'top_carrier'</li><li>'most_flight'</li><li>'dest_dec'</li></ol>\n"
            ],
            "text/markdown": "1. 'student'\n2. 'cars'\n3. 'aaaa'\n4. 'bbbb'\n5. 'cccc'\n6. 'dddd'\n7. 'dep_delay'\n8. 'arr_delay'\n9. 'top_carrier'\n10. 'most_flight'\n11. 'dest_dec'\n\n\n",
            "text/latex": "\\begin{enumerate*}\n\\item 'student'\n\\item 'cars'\n\\item 'aaaa'\n\\item 'bbbb'\n\\item 'cccc'\n\\item 'dddd'\n\\item 'dep\\_delay'\n\\item 'arr\\_delay'\n\\item 'top\\_carrier'\n\\item 'most\\_flight'\n\\item 'dest\\_dec'\n\\end{enumerate*}\n",
            "text/plain": [
              " [1] \"student\"     \"cars\"        \"aaaa\"        \"bbbb\"        \"cccc\"       \n",
              " [6] \"dddd\"        \"dep_delay\"   \"arr_delay\"   \"top_carrier\" \"most_flight\"\n",
              "[11] \"dest_dec\"   "
            ]
          },
          "metadata": {}
        }
      ]
    },
    {
      "cell_type": "code",
      "source": [
        "dbGetQuery(con, \"SELECT * FROM dep_delay UNION SELECT * FROM arr_delay\")\n",
        "dbGetQuery(con, \"SELECT * FROM top_carrier\")\n",
        "dbGetQuery(con, \"SELECT * FROM most_flight LIMIT 5\")\n",
        "dbGetQuery(con, \"SELECT * FROM dest_dec\")\n",
        "dbGetQuery(con, \"SELECT * FROM atl_carrier_dec\")"
      ],
      "metadata": {
        "colab": {
          "base_uri": "https://localhost:8080/",
          "height": 1000
        },
        "id": "Me1fnxLA0avx",
        "outputId": "e510fefc-7ad0-4c74-ed07-a9f16812c354"
      },
      "execution_count": null,
      "outputs": [
        {
          "output_type": "display_data",
          "data": {
            "text/html": [
              "<table class=\"dataframe\">\n",
              "<caption>A data.frame: 2 × 7</caption>\n",
              "<thead>\n",
              "\t<tr><th></th><th scope=col>row.names</th><th scope=col>rowname</th><th scope=col>year</th><th scope=col>month</th><th scope=col>day</th><th scope=col>origins</th><th scope=col>dep_delay</th></tr>\n",
              "\t<tr><th></th><th scope=col>&lt;chr&gt;</th><th scope=col>&lt;chr&gt;</th><th scope=col>&lt;int&gt;</th><th scope=col>&lt;int&gt;</th><th scope=col>&lt;int&gt;</th><th scope=col>&lt;chr&gt;</th><th scope=col>&lt;dbl&gt;</th></tr>\n",
              "</thead>\n",
              "<tbody>\n",
              "\t<tr><th scope=row>1</th><td>1</td><td>7073</td><td>2013</td><td>1</td><td>9</td><td>John F Kennedy Intl</td><td>1301</td></tr>\n",
              "\t<tr><th scope=row>2</th><td>1</td><td>7073</td><td>2013</td><td>1</td><td>9</td><td>Honolulu Intl      </td><td>1272</td></tr>\n",
              "</tbody>\n",
              "</table>\n"
            ],
            "text/markdown": "\nA data.frame: 2 × 7\n\n| <!--/--> | row.names &lt;chr&gt; | rowname &lt;chr&gt; | year &lt;int&gt; | month &lt;int&gt; | day &lt;int&gt; | origins &lt;chr&gt; | dep_delay &lt;dbl&gt; |\n|---|---|---|---|---|---|---|---|\n| 1 | 1 | 7073 | 2013 | 1 | 9 | John F Kennedy Intl | 1301 |\n| 2 | 1 | 7073 | 2013 | 1 | 9 | Honolulu Intl       | 1272 |\n\n",
            "text/latex": "A data.frame: 2 × 7\n\\begin{tabular}{r|lllllll}\n  & row.names & rowname & year & month & day & origins & dep\\_delay\\\\\n  & <chr> & <chr> & <int> & <int> & <int> & <chr> & <dbl>\\\\\n\\hline\n\t1 & 1 & 7073 & 2013 & 1 & 9 & John F Kennedy Intl & 1301\\\\\n\t2 & 1 & 7073 & 2013 & 1 & 9 & Honolulu Intl       & 1272\\\\\n\\end{tabular}\n",
            "text/plain": [
              "  row.names rowname year month day origins             dep_delay\n",
              "1 1         7073    2013 1     9   John F Kennedy Intl 1301     \n",
              "2 1         7073    2013 1     9   Honolulu Intl       1272     "
            ]
          },
          "metadata": {}
        },
        {
          "output_type": "display_data",
          "data": {
            "text/html": [
              "<table class=\"dataframe\">\n",
              "<caption>A data.frame: 12 × 4</caption>\n",
              "<thead>\n",
              "\t<tr><th></th><th scope=col>row.names</th><th scope=col>month</th><th scope=col>carriers</th><th scope=col>count</th></tr>\n",
              "\t<tr><th></th><th scope=col>&lt;chr&gt;</th><th scope=col>&lt;int&gt;</th><th scope=col>&lt;chr&gt;</th><th scope=col>&lt;int&gt;</th></tr>\n",
              "</thead>\n",
              "<tbody>\n",
              "\t<tr><th scope=row>1</th><td>1 </td><td> 1</td><td>United Air Lines Inc.   </td><td>4637</td></tr>\n",
              "\t<tr><th scope=row>2</th><td>2 </td><td> 2</td><td>United Air Lines Inc.   </td><td>4346</td></tr>\n",
              "\t<tr><th scope=row>3</th><td>3 </td><td> 3</td><td>United Air Lines Inc.   </td><td>4971</td></tr>\n",
              "\t<tr><th scope=row>4</th><td>4 </td><td> 4</td><td>United Air Lines Inc.   </td><td>5047</td></tr>\n",
              "\t<tr><th scope=row>5</th><td>5 </td><td> 5</td><td>United Air Lines Inc.   </td><td>4960</td></tr>\n",
              "\t<tr><th scope=row>6</th><td>6 </td><td> 6</td><td>United Air Lines Inc.   </td><td>4975</td></tr>\n",
              "\t<tr><th scope=row>7</th><td>7 </td><td> 7</td><td>United Air Lines Inc.   </td><td>5066</td></tr>\n",
              "\t<tr><th scope=row>8</th><td>8 </td><td> 8</td><td>United Air Lines Inc.   </td><td>5124</td></tr>\n",
              "\t<tr><th scope=row>9</th><td>9 </td><td> 9</td><td>ExpressJet Airlines Inc.</td><td>4725</td></tr>\n",
              "\t<tr><th scope=row>10</th><td>10</td><td>10</td><td>United Air Lines Inc.   </td><td>5060</td></tr>\n",
              "\t<tr><th scope=row>11</th><td>11</td><td>11</td><td>United Air Lines Inc.   </td><td>4854</td></tr>\n",
              "\t<tr><th scope=row>12</th><td>12</td><td>12</td><td>United Air Lines Inc.   </td><td>4931</td></tr>\n",
              "</tbody>\n",
              "</table>\n"
            ],
            "text/markdown": "\nA data.frame: 12 × 4\n\n| <!--/--> | row.names &lt;chr&gt; | month &lt;int&gt; | carriers &lt;chr&gt; | count &lt;int&gt; |\n|---|---|---|---|---|\n| 1 | 1  |  1 | United Air Lines Inc.    | 4637 |\n| 2 | 2  |  2 | United Air Lines Inc.    | 4346 |\n| 3 | 3  |  3 | United Air Lines Inc.    | 4971 |\n| 4 | 4  |  4 | United Air Lines Inc.    | 5047 |\n| 5 | 5  |  5 | United Air Lines Inc.    | 4960 |\n| 6 | 6  |  6 | United Air Lines Inc.    | 4975 |\n| 7 | 7  |  7 | United Air Lines Inc.    | 5066 |\n| 8 | 8  |  8 | United Air Lines Inc.    | 5124 |\n| 9 | 9  |  9 | ExpressJet Airlines Inc. | 4725 |\n| 10 | 10 | 10 | United Air Lines Inc.    | 5060 |\n| 11 | 11 | 11 | United Air Lines Inc.    | 4854 |\n| 12 | 12 | 12 | United Air Lines Inc.    | 4931 |\n\n",
            "text/latex": "A data.frame: 12 × 4\n\\begin{tabular}{r|llll}\n  & row.names & month & carriers & count\\\\\n  & <chr> & <int> & <chr> & <int>\\\\\n\\hline\n\t1 & 1  &  1 & United Air Lines Inc.    & 4637\\\\\n\t2 & 2  &  2 & United Air Lines Inc.    & 4346\\\\\n\t3 & 3  &  3 & United Air Lines Inc.    & 4971\\\\\n\t4 & 4  &  4 & United Air Lines Inc.    & 5047\\\\\n\t5 & 5  &  5 & United Air Lines Inc.    & 4960\\\\\n\t6 & 6  &  6 & United Air Lines Inc.    & 4975\\\\\n\t7 & 7  &  7 & United Air Lines Inc.    & 5066\\\\\n\t8 & 8  &  8 & United Air Lines Inc.    & 5124\\\\\n\t9 & 9  &  9 & ExpressJet Airlines Inc. & 4725\\\\\n\t10 & 10 & 10 & United Air Lines Inc.    & 5060\\\\\n\t11 & 11 & 11 & United Air Lines Inc.    & 4854\\\\\n\t12 & 12 & 12 & United Air Lines Inc.    & 4931\\\\\n\\end{tabular}\n",
            "text/plain": [
              "   row.names month carriers                 count\n",
              "1  1          1    United Air Lines Inc.    4637 \n",
              "2  2          2    United Air Lines Inc.    4346 \n",
              "3  3          3    United Air Lines Inc.    4971 \n",
              "4  4          4    United Air Lines Inc.    5047 \n",
              "5  5          5    United Air Lines Inc.    4960 \n",
              "6  6          6    United Air Lines Inc.    4975 \n",
              "7  7          7    United Air Lines Inc.    5066 \n",
              "8  8          8    United Air Lines Inc.    5124 \n",
              "9  9          9    ExpressJet Airlines Inc. 4725 \n",
              "10 10        10    United Air Lines Inc.    5060 \n",
              "11 11        11    United Air Lines Inc.    4854 \n",
              "12 12        12    United Air Lines Inc.    4931 "
            ]
          },
          "metadata": {}
        },
        {
          "output_type": "display_data",
          "data": {
            "text/html": [
              "<table class=\"dataframe\">\n",
              "<caption>A data.frame: 5 × 7</caption>\n",
              "<thead>\n",
              "\t<tr><th></th><th scope=col>row.names</th><th scope=col>origin</th><th scope=col>dest</th><th scope=col>hour</th><th scope=col>minute</th><th scope=col>total</th><th scope=col>h</th></tr>\n",
              "\t<tr><th></th><th scope=col>&lt;chr&gt;</th><th scope=col>&lt;chr&gt;</th><th scope=col>&lt;chr&gt;</th><th scope=col>&lt;dbl&gt;</th><th scope=col>&lt;dbl&gt;</th><th scope=col>&lt;int&gt;</th><th scope=col>&lt;dbl&gt;</th></tr>\n",
              "</thead>\n",
              "<tbody>\n",
              "\t<tr><th scope=row>1</th><td>1</td><td>JFK</td><td>LAX</td><td>12</td><td> 0</td><td>726</td><td>327.6364</td></tr>\n",
              "\t<tr><th scope=row>2</th><td>2</td><td>JFK</td><td>LAX</td><td> 7</td><td> 0</td><td>686</td><td>328.6224</td></tr>\n",
              "\t<tr><th scope=row>3</th><td>3</td><td>JFK</td><td>LAX</td><td> 9</td><td> 0</td><td>561</td><td>331.0053</td></tr>\n",
              "\t<tr><th scope=row>4</th><td>4</td><td>JFK</td><td>LAX</td><td>13</td><td>45</td><td>360</td><td>330.0778</td></tr>\n",
              "\t<tr><th scope=row>5</th><td>5</td><td>JFK</td><td>LAX</td><td>16</td><td>55</td><td>360</td><td>335.2528</td></tr>\n",
              "</tbody>\n",
              "</table>\n"
            ],
            "text/markdown": "\nA data.frame: 5 × 7\n\n| <!--/--> | row.names &lt;chr&gt; | origin &lt;chr&gt; | dest &lt;chr&gt; | hour &lt;dbl&gt; | minute &lt;dbl&gt; | total &lt;int&gt; | h &lt;dbl&gt; |\n|---|---|---|---|---|---|---|---|\n| 1 | 1 | JFK | LAX | 12 |  0 | 726 | 327.6364 |\n| 2 | 2 | JFK | LAX |  7 |  0 | 686 | 328.6224 |\n| 3 | 3 | JFK | LAX |  9 |  0 | 561 | 331.0053 |\n| 4 | 4 | JFK | LAX | 13 | 45 | 360 | 330.0778 |\n| 5 | 5 | JFK | LAX | 16 | 55 | 360 | 335.2528 |\n\n",
            "text/latex": "A data.frame: 5 × 7\n\\begin{tabular}{r|lllllll}\n  & row.names & origin & dest & hour & minute & total & h\\\\\n  & <chr> & <chr> & <chr> & <dbl> & <dbl> & <int> & <dbl>\\\\\n\\hline\n\t1 & 1 & JFK & LAX & 12 &  0 & 726 & 327.6364\\\\\n\t2 & 2 & JFK & LAX &  7 &  0 & 686 & 328.6224\\\\\n\t3 & 3 & JFK & LAX &  9 &  0 & 561 & 331.0053\\\\\n\t4 & 4 & JFK & LAX & 13 & 45 & 360 & 330.0778\\\\\n\t5 & 5 & JFK & LAX & 16 & 55 & 360 & 335.2528\\\\\n\\end{tabular}\n",
            "text/plain": [
              "  row.names origin dest hour minute total h       \n",
              "1 1         JFK    LAX  12    0     726   327.6364\n",
              "2 2         JFK    LAX   7    0     686   328.6224\n",
              "3 3         JFK    LAX   9    0     561   331.0053\n",
              "4 4         JFK    LAX  13   45     360   330.0778\n",
              "5 5         JFK    LAX  16   55     360   335.2528"
            ]
          },
          "metadata": {}
        },
        {
          "output_type": "display_data",
          "data": {
            "text/html": [
              "<table class=\"dataframe\">\n",
              "<caption>A data.frame: 3 × 3</caption>\n",
              "<thead>\n",
              "\t<tr><th></th><th scope=col>row.names</th><th scope=col>dest</th><th scope=col>total</th></tr>\n",
              "\t<tr><th></th><th scope=col>&lt;chr&gt;</th><th scope=col>&lt;chr&gt;</th><th scope=col>&lt;int&gt;</th></tr>\n",
              "</thead>\n",
              "<tbody>\n",
              "\t<tr><th scope=row>1</th><td>1</td><td>ATL</td><td>1463</td></tr>\n",
              "\t<tr><th scope=row>2</th><td>2</td><td>LAX</td><td>1408</td></tr>\n",
              "\t<tr><th scope=row>3</th><td>3</td><td>MCO</td><td>1219</td></tr>\n",
              "</tbody>\n",
              "</table>\n"
            ],
            "text/markdown": "\nA data.frame: 3 × 3\n\n| <!--/--> | row.names &lt;chr&gt; | dest &lt;chr&gt; | total &lt;int&gt; |\n|---|---|---|---|\n| 1 | 1 | ATL | 1463 |\n| 2 | 2 | LAX | 1408 |\n| 3 | 3 | MCO | 1219 |\n\n",
            "text/latex": "A data.frame: 3 × 3\n\\begin{tabular}{r|lll}\n  & row.names & dest & total\\\\\n  & <chr> & <chr> & <int>\\\\\n\\hline\n\t1 & 1 & ATL & 1463\\\\\n\t2 & 2 & LAX & 1408\\\\\n\t3 & 3 & MCO & 1219\\\\\n\\end{tabular}\n",
            "text/plain": [
              "  row.names dest total\n",
              "1 1         ATL  1463 \n",
              "2 2         LAX  1408 \n",
              "3 3         MCO  1219 "
            ]
          },
          "metadata": {}
        },
        {
          "output_type": "display_data",
          "data": {
            "text/html": [
              "<table class=\"dataframe\">\n",
              "<caption>A data.frame: 6 × 4</caption>\n",
              "<thead>\n",
              "\t<tr><th></th><th scope=col>row.names</th><th scope=col>carriers</th><th scope=col>dest</th><th scope=col>total</th></tr>\n",
              "\t<tr><th></th><th scope=col>&lt;chr&gt;</th><th scope=col>&lt;chr&gt;</th><th scope=col>&lt;chr&gt;</th><th scope=col>&lt;int&gt;</th></tr>\n",
              "</thead>\n",
              "<tbody>\n",
              "\t<tr><th scope=row>1</th><td>1</td><td>Delta Air Lines Inc.       </td><td>ATL</td><td>946</td></tr>\n",
              "\t<tr><th scope=row>2</th><td>2</td><td>Envoy Air                  </td><td>ATL</td><td>189</td></tr>\n",
              "\t<tr><th scope=row>3</th><td>3</td><td>AirTran Airways Corporation</td><td>ATL</td><td>153</td></tr>\n",
              "\t<tr><th scope=row>4</th><td>4</td><td>ExpressJet Airlines Inc.   </td><td>ATL</td><td>131</td></tr>\n",
              "\t<tr><th scope=row>5</th><td>5</td><td>Southwest Airlines Co.     </td><td>ATL</td><td> 31</td></tr>\n",
              "\t<tr><th scope=row>6</th><td>6</td><td>United Air Lines Inc.      </td><td>ATL</td><td> 13</td></tr>\n",
              "</tbody>\n",
              "</table>\n"
            ],
            "text/markdown": "\nA data.frame: 6 × 4\n\n| <!--/--> | row.names &lt;chr&gt; | carriers &lt;chr&gt; | dest &lt;chr&gt; | total &lt;int&gt; |\n|---|---|---|---|---|\n| 1 | 1 | Delta Air Lines Inc.        | ATL | 946 |\n| 2 | 2 | Envoy Air                   | ATL | 189 |\n| 3 | 3 | AirTran Airways Corporation | ATL | 153 |\n| 4 | 4 | ExpressJet Airlines Inc.    | ATL | 131 |\n| 5 | 5 | Southwest Airlines Co.      | ATL |  31 |\n| 6 | 6 | United Air Lines Inc.       | ATL |  13 |\n\n",
            "text/latex": "A data.frame: 6 × 4\n\\begin{tabular}{r|llll}\n  & row.names & carriers & dest & total\\\\\n  & <chr> & <chr> & <chr> & <int>\\\\\n\\hline\n\t1 & 1 & Delta Air Lines Inc.        & ATL & 946\\\\\n\t2 & 2 & Envoy Air                   & ATL & 189\\\\\n\t3 & 3 & AirTran Airways Corporation & ATL & 153\\\\\n\t4 & 4 & ExpressJet Airlines Inc.    & ATL & 131\\\\\n\t5 & 5 & Southwest Airlines Co.      & ATL &  31\\\\\n\t6 & 6 & United Air Lines Inc.       & ATL &  13\\\\\n\\end{tabular}\n",
            "text/plain": [
              "  row.names carriers                    dest total\n",
              "1 1         Delta Air Lines Inc.        ATL  946  \n",
              "2 2         Envoy Air                   ATL  189  \n",
              "3 3         AirTran Airways Corporation ATL  153  \n",
              "4 4         ExpressJet Airlines Inc.    ATL  131  \n",
              "5 5         Southwest Airlines Co.      ATL   31  \n",
              "6 6         United Air Lines Inc.       ATL   13  "
            ]
          },
          "metadata": {}
        }
      ]
    },
    {
      "cell_type": "code",
      "source": [
        "dbDisconnect(con)"
      ],
      "metadata": {
        "colab": {
          "base_uri": "https://localhost:8080/",
          "height": 34
        },
        "id": "uODnj55RzJrY",
        "outputId": "d7ee6258-e850-444f-a257-cc09420caf7e"
      },
      "execution_count": null,
      "outputs": [
        {
          "output_type": "display_data",
          "data": {
            "text/html": [
              "TRUE"
            ],
            "text/markdown": "TRUE",
            "text/latex": "TRUE",
            "text/plain": [
              "[1] TRUE"
            ]
          },
          "metadata": {}
        }
      ]
    }
  ],
  "metadata": {
    "colab": {
      "provenance": [],
      "authorship_tag": "ABX9TyOHWwf+66FhAMGGK0MVDEJd",
      "include_colab_link": true
    },
    "kernelspec": {
      "display_name": "R",
      "name": "ir"
    },
    "language_info": {
      "name": "R"
    }
  },
  "nbformat": 4,
  "nbformat_minor": 0
}